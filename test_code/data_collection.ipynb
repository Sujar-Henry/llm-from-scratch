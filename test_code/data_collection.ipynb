{
 "cells": [
  {
   "cell_type": "markdown",
   "id": "e3e46413",
   "metadata": {},
   "source": [
    "# Data Collection for LLM Training\n",
    "\n",
    "This notebook demonstrates how to collect and preprocess text data for training a language model. We'll use \"The Adventures of Sherlock Holmes\" from Project Gutenberg as our example dataset.\n",
    "\n",
    "## Steps covered:\n",
    "1. **Download** text data from Project Gutenberg\n",
    "2. **Load and inspect** the raw text\n",
    "3. **Tokenize** the text by splitting on punctuation and spaces\n",
    "4. **Clean** the tokens by removing empty strings"
   ]
  },
  {
   "cell_type": "markdown",
   "id": "3eaa5a9b",
   "metadata": {},
   "source": [
    "## 1. Download Text Data\n",
    "\n",
    "We'll download \"The Adventures of Sherlock Holmes\" from Project Gutenberg, which provides free access to thousands of books."
   ]
  },
  {
   "cell_type": "code",
   "execution_count": 2,
   "id": "c20abfb9",
   "metadata": {},
   "outputs": [
    {
     "name": "stdout",
     "output_type": "stream",
     "text": [
      "📄 File already exists, skipping download\n"
     ]
    }
   ],
   "source": [
    "import os\n",
    "import urllib.request\n",
    "\n",
    "# Check if we already have the file to avoid re-downloading\n",
    "if not os.path.exists(\"sherlock-holmes.txt\"):\n",
    "    # URL for \"The Adventures of Sherlock Holmes\" from Project Gutenberg\n",
    "    url = (\"https://www.gutenberg.org/files/1661/1661-0.txt\")\n",
    "    file_path = \"sherlock-holmes.txt\"\n",
    "    \n",
    "    # Download the file and save it locally\n",
    "    urllib.request.urlretrieve(url, file_path)\n",
    "    print(\"✅ Downloaded Sherlock Holmes text\")\n",
    "else:\n",
    "    print(\"📄 File already exists, skipping download\")"
   ]
  },
  {
   "cell_type": "code",
   "execution_count": 3,
   "id": "e1aa1149",
   "metadata": {},
   "outputs": [
    {
     "name": "stdout",
     "output_type": "stream",
     "text": [
      "Total number of characters: 581425\n",
      "\n",
      "📖 First 1000 characters:\n",
      "--------------------------------------------------\n",
      "﻿The Project Gutenberg eBook of The Adventures of Sherlock Holmes,\n",
      "by Arthur Conan Doyle\n",
      "\n",
      "This eBook is for the use of anyone anywhere in the United States and\n",
      "most other parts of the world at no cost and with almost no restrictions\n",
      "whatsoever. You may copy it, give it away or re-use it under the terms\n",
      "of the Project Gutenberg License included with this eBook or online at\n",
      "www.gutenberg.org. If you are not located in the United States, you\n",
      "will have to check the laws of the country where you are located before\n",
      "using this eBook.\n",
      "\n",
      "Title: The Adventures of Sherlock Holmes\n",
      "\n",
      "Author: Arthur Conan Doyle\n",
      "\n",
      "Release Date: November 29, 2002 [eBook #1661]\n",
      "[Most recently updated: October 10, 2023]\n",
      "\n",
      "Language: English\n",
      "\n",
      "Character set encoding: UTF-8\n",
      "\n",
      "Produced by: an anonymous Project Gutenberg volunteer and Jose Menendez\n",
      "\n",
      "*** START OF THE PROJECT GUTENBERG EBOOK THE ADVENTURES OF SHERLOCK\n",
      "HOLMES ***\n",
      "\n",
      "\n",
      "\n",
      "\n",
      "The Adventures of Sherlock Holmes\n",
      "\n",
      "by Arthur Conan Doyle\n",
      "\n",
      "\n",
      "Contents\n",
      "\n",
      "   I.     A Scandal in Bohemia\n",
      "   II.    The Red-Headed League\n",
      "   III.   A Case of Identity\n",
      "   IV.    The Boscombe Valley Mystery\n",
      "   V.     The Five Orange Pips\n",
      "   VI.    The Man with the Twisted Lip\n",
      "   VII.   The Adventure of the Blue Carbuncle\n",
      "   VIII.  The Adventure of the Speckled Band\n",
      "   IX.    The Adventure of the Engineer’s Thumb\n",
      "   X.     The Adventure of the Noble Bachelor\n",
      "   XI.    The Adventure of the Beryl Coronet\n",
      "   XII.   The Adventure of the Copper Beeches\n",
      "\n",
      "\n",
      "\n",
      "\n",
      "I. A SCANDAL IN BOHEMIA\n",
      "\n",
      "\n",
      "I.\n",
      "\n",
      "To Sherlock Holmes she is always _the_ woman. I have seldom heard him\n",
      "mention her under any other name. In his eyes she eclipses and\n",
      "predominates the whole of her sex. It was not that he felt any emotion\n",
      "akin to love for Irene Adler. All emotions, and that one particularly,\n",
      "were abhorrent to his cold, precise but admirably balanced mind. He\n",
      "was, I take it, the most perfect reasoning and observing machine that\n",
      "the world has seen, but as a lover he would have placed himself in a\n",
      "false position. He never spoke of the softer passions, save with a gibe\n",
      "and a sneer. They were admirable things for the observer—excellent for\n",
      "drawing the veil from men’s motives and actions. But for the trained\n",
      "reasoner to admit such intrusions into his own delicate and finely\n",
      "adjusted temperament was to introduce a distracting factor which might\n",
      "throw a doubt upon all his mental results. Grit in a sensitive\n",
      "instrument, or a crack in one of his own high-power lenses, would not\n",
      "be more disturbing than a strong emotion in a nature such as his. And\n",
      "yet there was but one woman to him, and that woman was the late Irene\n",
      "Adler, of dubious and questionable memory.\n",
      "\n",
      "I had seen little of Holmes lately. My marriage had drifted us away\n",
      "from each other. My own complete happiness, and the home-centred\n",
      "interests which rise up around the man who first finds himself master\n",
      "of his own establishment, were sufficient to absorb all my attention,\n",
      "while Holmes, who loathed every form of society with his whole Bohemian\n",
      "soul, remained in our lodgings in Baker Street, buried among his old\n",
      "books, and alternating from week to week between cocaine and ambition,\n",
      "the drowsiness of the drug, and the fierce energy of his own keen\n",
      "nature. He was still, as ever, deeply attracted by the study of crime,\n",
      "and occupied his immense faculties and extraordinary powers of\n",
      "observation in following out those clues, and clearing up those\n",
      "mysteries which had been abandoned as hopeless by the official police.\n",
      "From time to time I heard some vague account of his doings: of his\n",
      "summons to Odessa in the case of the Trepoff murder, of his clearing up\n",
      "of the singular tragedy of the Atkinson brothers at Trincomalee, and\n",
      "finally of the mission which he had accomplished so delicately and\n",
      "successfully for the reigning family of Holland. Beyond these signs of\n",
      "his activity, however, which I merely shared with all the readers of\n",
      "the daily press, I knew little of my former friend and companion.\n",
      "\n",
      "One night—it was on the twentieth of March, 1888—I was returning from a\n",
      "journey to a patient (for I had now returned to civil practice), when\n",
      "my way led me through Baker Street. As I passed the well-remembered\n",
      "door, which must always be associated in my mind with my wooing, and\n",
      "with the dark incidents of the Study in Scarlet, I was seized with a\n",
      "keen desire to see Holmes again, and to know how he was employing his\n",
      "extraordinary powers. His rooms were brilliantly lit, and, even as I\n",
      "looked up, I saw his tall, spare figure pass twice in a dark silhouette\n",
      "against the blind. He was pacing the room swiftly, eagerly, with his\n",
      "head sunk upon his chest and his hands clasped behind him. To me, who\n",
      "knew his every mood and habit, his attitude and manner told their own\n",
      "story. He was at work again. He had risen out of his drug-created\n",
      "dreams and was hot upon the scent of some new problem. I rang the bell\n",
      "and was shown up to the chamber which had formerly been in part my own.\n",
      "\n",
      "His manner was not effusive. It seldom was; but he was glad, I think,\n",
      "to see me. With hardly \n"
     ]
    }
   ],
   "source": [
    "# Load the entire text file into memory\n",
    "with open(\"sherlock-holmes.txt\", \"r\", encoding=\"utf-8\") as f:\n",
    "    raw_text = f.read()\n",
    "\n",
    "# Check the size and preview the content\n",
    "print(\"Total number of characters:\", len(raw_text))\n",
    "print(\"\\n📖 First 1000 characters:\")\n",
    "print(\"-\" * 50)\n",
    "print(raw_text[:5000])"
   ]
  },
  {
   "cell_type": "markdown",
   "id": "fdc11a6d",
   "metadata": {},
   "source": [
    "## 2. Load and Inspect the Text\n",
    "\n",
    "Now let's load the downloaded text file and see what we're working with."
   ]
  },
  {
   "cell_type": "code",
   "execution_count": 4,
   "id": "1ba136e6",
   "metadata": {},
   "outputs": [
    {
     "name": "stdout",
     "output_type": "stream",
     "text": [
      "Splitting on whitespace (keeping delimiters):\n",
      "['Test', ' ', 'for', ' ', 'Sherlock', ' ', 'Holmes.', ' ', '!', ' ', '?', ' ', '/']\n"
     ]
    }
   ],
   "source": [
    "import re\n",
    "\n",
    "# Example 1: Simple split on whitespace\n",
    "text = \"Test for Sherlock Holmes. ! ? /\"\n",
    "\n",
    "# re.split with (\\s) captures the delimiter (whitespace) in the result\n",
    "result = re.split(r'(\\s)', text)\n",
    "\n",
    "print(\"Splitting on whitespace (keeping delimiters):\")\n",
    "print(result)"
   ]
  },
  {
   "cell_type": "markdown",
   "id": "f5e50c00",
   "metadata": {},
   "source": [
    "## 3. Text Tokenization\n",
    "\n",
    "Tokenization is the process of splitting text into smaller units (tokens) that can be processed by our language model. Let's start with some simple examples to understand how it works."
   ]
  },
  {
   "cell_type": "code",
   "execution_count": 5,
   "id": "f33405f9",
   "metadata": {},
   "outputs": [
    {
     "name": "stdout",
     "output_type": "stream",
     "text": [
      "Splitting on punctuation and whitespace:\n",
      "['Test', ' ', 'for', ' ', 'Sherlock', ' ', 'Holmes', '.', '', ' ', '!', ' ', '?', ' ', '/']\n"
     ]
    }
   ],
   "source": [
    "# Example 2: Split on punctuation AND whitespace\n",
    "# This captures commas, periods, and spaces as separate tokens\n",
    "result = re.split(r'([,.]|\\s)', text)\n",
    "\n",
    "print(\"Splitting on punctuation and whitespace:\")\n",
    "print(result)"
   ]
  },
  {
   "cell_type": "code",
   "execution_count": 6,
   "id": "b5331564",
   "metadata": {},
   "outputs": [
    {
     "name": "stdout",
     "output_type": "stream",
     "text": [
      "['Test', 'for', 'Sherlock', 'Holmes', '.', '!', '?', '/']\n"
     ]
    }
   ],
   "source": [
    "# Strip whitespace from each item and then filter out any empty strings.\n",
    "result = [item for item in result if item.strip()]\n",
    "print(result)"
   ]
  },
  {
   "cell_type": "code",
   "execution_count": 7,
   "id": "298103d7",
   "metadata": {},
   "outputs": [
    {
     "name": "stdout",
     "output_type": "stream",
     "text": [
      "['Hello', ',', 'world', '.', 'Is', 'this', '--', 'a', 'test', '?']\n"
     ]
    }
   ],
   "source": [
    "text = \"Hello, world. Is this-- a test?\"\n",
    "\n",
    "result = re.split(r'([,.:;?_!\"()\\']|--|\\s)', text)\n",
    "result = [item.strip() for item in result if item.strip()]\n",
    "print(result)"
   ]
  },
  {
   "cell_type": "code",
   "execution_count": 8,
   "id": "63b39ada",
   "metadata": {},
   "outputs": [
    {
     "name": "stdout",
     "output_type": "stream",
     "text": [
      "['\\ufeffThe', 'Project', 'Gutenberg', 'eBook', 'of', 'The', 'Adventures', 'of', 'Sherlock', 'Holmes', ',', 'by', 'Arthur', 'Conan', 'Doyle', 'This', 'eBook', 'is', 'for', 'the', 'use', 'of', 'anyone', 'anywhere', 'in', 'the', 'United', 'States', 'and', 'most']\n"
     ]
    }
   ],
   "source": [
    "preprocessed = re.split(r'([,.:;?_!\"()\\']|--|\\s)', raw_text)\n",
    "preprocessed = [item.strip() for item in preprocessed if item.strip()]\n",
    "print(preprocessed[:30])"
   ]
  },
  {
   "cell_type": "markdown",
   "id": "fea38ee0",
   "metadata": {},
   "source": [
    "## 4. Apply Tokenization to Full Text\n",
    "\n",
    "Now let's apply our tokenization strategy to the entire Sherlock Holmes text."
   ]
  },
  {
   "cell_type": "code",
   "execution_count": 9,
   "id": "3675c8f4",
   "metadata": {},
   "outputs": [
    {
     "name": "stdout",
     "output_type": "stream",
     "text": [
      "126189\n",
      "['\\ufeffThe', 'Project', 'Gutenberg', 'eBook', 'of', 'The', 'Adventures', 'of', 'Sherlock', 'Holmes', ',', 'by', 'Arthur', 'Conan', 'Doyle', 'This', 'eBook', 'is', 'for', 'the', 'use', 'of', 'anyone', 'anywhere', 'in', 'the', 'United', 'States', 'and', 'most', 'other', 'parts', 'of', 'the', 'world', 'at', 'no', 'cost', 'and', 'with', 'almost', 'no', 'restrictions', 'whatsoever', '.', 'You', 'may', 'copy', 'it', ',', 'give', 'it', 'away', 'or', 're-use', 'it', 'under', 'the', 'terms', 'of', 'the', 'Project', 'Gutenberg', 'License', 'included', 'with', 'this', 'eBook', 'or', 'online', 'at', 'www', '.', 'gutenberg', '.', 'org', '.', 'If', 'you', 'are', 'not', 'located', 'in', 'the', 'United', 'States', ',', 'you', 'will', 'have', 'to', 'check', 'the', 'laws', 'of', 'the', 'country', 'where', 'you', 'are', 'located', 'before', 'using', 'this', 'eBook', '.', 'Title', ':', 'The', 'Adventures', 'of', 'Sherlock', 'Holmes', 'Author', ':', 'Arthur', 'Conan', 'Doyle', 'Release', 'Date', ':', 'November', '29', ',', '2002', '[eBook', '#1661]', '[Most', 'recently', 'updated', ':', 'October', '10', ',', '2023]', 'Language', ':', 'English', 'Character', 'set', 'encoding', ':', 'UTF-8', 'Produced', 'by', ':', 'an', 'anonymous', 'Project', 'Gutenberg', 'volunteer', 'and', 'Jose', 'Menendez', '***', 'START', 'OF', 'THE', 'PROJECT', 'GUTENBERG', 'EBOOK', 'THE', 'ADVENTURES', 'OF', 'SHERLOCK', 'HOLMES', '***', 'The', 'Adventures', 'of', 'Sherlock', 'Holmes', 'by', 'Arthur', 'Conan', 'Doyle', 'Contents', 'I', '.', 'A', 'Scandal', 'in', 'Bohemia', 'II', '.', 'The', 'Red-Headed', 'League', 'III', '.', 'A', 'Case', 'of', 'Identity', 'IV', '.', 'The', 'Boscombe', 'Valley', 'Mystery', 'V', '.', 'The', 'Five', 'Orange', 'Pips', 'VI', '.', 'The', 'Man', 'with', 'the', 'Twisted', 'Lip', 'VII', '.', 'The', 'Adventure', 'of', 'the', 'Blue', 'Carbuncle', 'VIII', '.', 'The', 'Adventure', 'of', 'the', 'Speckled', 'Band', 'IX', '.', 'The', 'Adventure', 'of', 'the', 'Engineer’s', 'Thumb', 'X', '.', 'The', 'Adventure', 'of', 'the', 'Noble', 'Bachelor', 'XI', '.', 'The', 'Adventure', 'of', 'the', 'Beryl', 'Coronet', 'XII', '.', 'The', 'Adventure', 'of', 'the', 'Copper', 'Beeches', 'I', '.', 'A', 'SCANDAL', 'IN', 'BOHEMIA', 'I', '.', 'To', 'Sherlock', 'Holmes', 'she', 'is', 'always', '_', 'the', '_', 'woman', '.', 'I', 'have', 'seldom', 'heard', 'him', 'mention', 'her', 'under', 'any', 'other', 'name', '.', 'In', 'his', 'eyes', 'she', 'eclipses', 'and', 'predominates', 'the', 'whole', 'of', 'her', 'sex', '.', 'It', 'was', 'not', 'that', 'he', 'felt', 'any', 'emotion', 'akin', 'to', 'love', 'for', 'Irene', 'Adler', '.', 'All', 'emotions', ',', 'and', 'that', 'one', 'particularly', ',', 'were', 'abhorrent', 'to', 'his', 'cold', ',', 'precise', 'but', 'admirably', 'balanced', 'mind', '.', 'He', 'was', ',', 'I', 'take', 'it', ',', 'the', 'most', 'perfect', 'reasoning', 'and', 'observing', 'machine', 'that', 'the', 'world', 'has', 'seen', ',', 'but', 'as', 'a', 'lover', 'he', 'would', 'have', 'placed', 'himself', 'in', 'a', 'false', 'position', '.', 'He', 'never', 'spoke', 'of', 'the', 'softer', 'passions', ',', 'save', 'with', 'a', 'gibe', 'and', 'a', 'sneer', '.', 'They', 'were', 'admirable', 'things', 'for', 'the', 'observer—excellent', 'for', 'drawing', 'the', 'veil', 'from', 'men’s', 'motives', 'and', 'actions', '.', 'But', 'for', 'the', 'trained', 'reasoner', 'to', 'admit', 'such', 'intrusions', 'into', 'his', 'own', 'delicate', 'and', 'finely', 'adjusted', 'temperament', 'was', 'to', 'introduce', 'a', 'distracting', 'factor', 'which', 'might', 'throw', 'a', 'doubt', 'upon', 'all', 'his', 'mental', 'results', '.', 'Grit', 'in', 'a', 'sensitive', 'instrument', ',', 'or', 'a', 'crack', 'in', 'one', 'of', 'his', 'own', 'high-power', 'lenses', ',', 'would', 'not', 'be', 'more', 'disturbing', 'than', 'a', 'strong', 'emotion', 'in', 'a', 'nature', 'such', 'as', 'his', '.', 'And', 'yet', 'there', 'was', 'but', 'one', 'woman', 'to', 'him', ',', 'and', 'that', 'woman', 'was', 'the', 'late', 'Irene', 'Adler', ',', 'of', 'dubious', 'and', 'questionable', 'memory', '.', 'I', 'had', 'seen', 'little', 'of', 'Holmes', 'lately', '.', 'My', 'marriage', 'had', 'drifted', 'us', 'away', 'from', 'each', 'other', '.', 'My', 'own', 'complete', 'happiness', ',', 'and', 'the', 'home-centred', 'interests', 'which', 'rise', 'up', 'around', 'the', 'man', 'who', 'first', 'finds', 'himself', 'master', 'of', 'his', 'own', 'establishment', ',', 'were', 'sufficient', 'to', 'absorb', 'all', 'my', 'attention', ',', 'while', 'Holmes', ',', 'who', 'loathed', 'every', 'form', 'of', 'society', 'with', 'his', 'whole', 'Bohemian', 'soul', ',', 'remained', 'in', 'our', 'lodgings', 'in', 'Baker', 'Street', ',', 'buried', 'among', 'his', 'old', 'books', ',', 'and', 'alternating', 'from', 'week', 'to', 'week', 'between', 'cocaine', 'and', 'ambition', ',', 'the', 'drowsiness', 'of', 'the', 'drug', ',', 'and', 'the', 'fierce', 'energy', 'of', 'his', 'own', 'keen', 'nature', '.', 'He', 'was', 'still', ',', 'as', 'ever', ',', 'deeply', 'attracted', 'by', 'the', 'study', 'of', 'crime', ',', 'and', 'occupied', 'his', 'immense', 'faculties', 'and', 'extraordinary', 'powers', 'of', 'observation', 'in', 'following', 'out', 'those', 'clues', ',', 'and', 'clearing', 'up', 'those', 'mysteries', 'which', 'had', 'been', 'abandoned', 'as', 'hopeless', 'by', 'the', 'official', 'police', '.', 'From', 'time', 'to', 'time', 'I', 'heard', 'some', 'vague', 'account', 'of', 'his', 'doings', ':', 'of', 'his', 'summons', 'to', 'Odessa', 'in', 'the', 'case', 'of', 'the', 'Trepoff', 'murder', ',', 'of', 'his', 'clearing', 'up', 'of', 'the', 'singular', 'tragedy', 'of', 'the', 'Atkinson', 'brothers', 'at', 'Trincomalee', ',', 'and', 'finally', 'of', 'the', 'mission', 'which', 'he', 'had', 'accomplished', 'so', 'delicately', 'and', 'successfully', 'for', 'the', 'reigning', 'family', 'of', 'Holland', '.', 'Beyond', 'these', 'signs', 'of', 'his', 'activity', ',', 'however', ',', 'which', 'I', 'merely', 'shared', 'with', 'all', 'the', 'readers', 'of', 'the', 'daily', 'press', ',', 'I', 'knew', 'little', 'of', 'my', 'former', 'friend', 'and', 'companion', '.', 'One', 'night—it', 'was', 'on', 'the', 'twentieth', 'of', 'March', ',', '1888—I', 'was', 'returning', 'from', 'a', 'journey', 'to', 'a', 'patient', '(', 'for', 'I', 'had', 'now', 'returned', 'to', 'civil', 'practice', ')', ',', 'when', 'my', 'way', 'led', 'me', 'through', 'Baker', 'Street', '.', 'As', 'I', 'passed', 'the', 'well-remembered', 'door', ',', 'which', 'must', 'always', 'be', 'associated', 'in', 'my', 'mind', 'with', 'my', 'wooing', ',', 'and', 'with', 'the', 'dark', 'incidents', 'of', 'the', 'Study', 'in', 'Scarlet', ',', 'I', 'was', 'seized', 'with', 'a', 'keen', 'desire', 'to', 'see', 'Holmes', 'again', ',', 'and', 'to', 'know', 'how', 'he', 'was', 'employing', 'his', 'extraordinary', 'powers', '.', 'His', 'rooms', 'were', 'brilliantly', 'lit', ',', 'and', ',', 'even', 'as', 'I', 'looked', 'up', ',', 'I', 'saw', 'his', 'tall', ',', 'spare', 'figure', 'pass', 'twice', 'in', 'a', 'dark', 'silhouette', 'against', 'the', 'blind', '.', 'He', 'was', 'pacing', 'the', 'room', 'swiftly', ',', 'eagerly', ',', 'with', 'his', 'head', 'sunk', 'upon', 'his', 'chest', 'and', 'his', 'hands', 'clasped', 'behind', 'him', '.', 'To', 'me', ',', 'who', 'knew', 'his', 'every', 'mood', 'and', 'habit', ',', 'his', 'attitude', 'and', 'manner', 'told', 'their', 'own', 'story', '.', 'He', 'was', 'at', 'work', 'again', '.', 'He', 'had', 'risen', 'out', 'of', 'his', 'drug-created', 'dreams', 'and', 'was', 'hot', 'upon', 'the', 'scent', 'of', 'some', 'new', 'problem', '.', 'I', 'rang', 'the', 'bell', 'and', 'was', 'shown', 'up', 'to', 'the', 'chamber', 'which', 'had', 'formerly', 'been', 'in', 'part', 'my', 'own', '.', 'His', 'manner', 'was', 'not', 'effusive', '.', 'It', 'seldom', 'was', ';', 'but', 'he', 'was', 'glad', ',', 'I', 'think', ',', 'to', 'see', 'me', '.', 'With', 'hardly', 'a', 'word', 'spoken', ',', 'but', 'with', 'a', 'kindly', 'eye', ',', 'he', 'waved', 'me', 'to', 'an', 'armchair', ',', 'threw', 'across']\n"
     ]
    }
   ],
   "source": [
    "print(len(preprocessed))\n",
    "print(preprocessed[:1000])\n"
   ]
  },
  {
   "cell_type": "markdown",
   "id": "43a14a08",
   "metadata": {},
   "source": [
    "## Summary\n",
    "\n",
    "✅ **What we accomplished:**\n",
    "- Downloaded a classic text from Project Gutenberg\n",
    "- Loaded and inspected the raw text data\n",
    "- Learned different tokenization approaches using regex\n",
    "- Applied comprehensive tokenization to split text into meaningful tokens\n",
    "- Cleaned the data by removing empty tokens\n",
    "\n",
    "🎯 **Next steps for LLM training:**\n",
    "- Create a vocabulary from these tokens\n",
    "- Convert tokens to numerical IDs\n",
    "- Organize data into training batches\n",
    "- Feed to a neural network for language model training\n",
    "\n",
    "This preprocessed token list is now ready to be used as training data for a language model!"
   ]
  },
  {
   "cell_type": "markdown",
   "id": "39b74078",
   "metadata": {},
   "source": [
    "## Convert Tokens into Token IDs"
   ]
  },
  {
   "cell_type": "code",
   "execution_count": 10,
   "id": "d234e23e",
   "metadata": {},
   "outputs": [
    {
     "name": "stdout",
     "output_type": "stream",
     "text": [
      "Vocab_size: 9885\n"
     ]
    }
   ],
   "source": [
    "#Use a set to get rid of duplicates\n",
    "all_words = sorted(set(preprocessed))\n",
    "vocab_size = len(all_words)\n",
    "print(f\"Vocab_size: {vocab_size}\")"
   ]
  },
  {
   "cell_type": "code",
   "execution_count": 11,
   "id": "f324ee9c",
   "metadata": {},
   "outputs": [
    {
     "name": "stdout",
     "output_type": "stream",
     "text": [
      "('!', 0)\n",
      "('#1661]', 1)\n",
      "('$1', 2)\n",
      "('$5', 3)\n",
      "('&', 4)\n",
      "('&c', 5)\n",
      "('(', 6)\n",
      "(')', 7)\n",
      "('***', 8)\n",
      "(',', 9)\n",
      "('-', 10)\n",
      "('--', 11)\n",
      "('.', 12)\n",
      "('000', 13)\n",
      "('1', 14)\n",
      "('10', 15)\n",
      "('100', 16)\n",
      "('1000', 17)\n",
      "('11', 18)\n",
      "('117', 19)\n",
      "('12', 20)\n",
      "('120', 21)\n",
      "('14', 22)\n",
      "('140', 23)\n",
      "('15', 24)\n",
      "('150', 25)\n",
      "('1500', 26)\n",
      "('16A', 27)\n",
      "('17', 28)\n",
      "('1846', 29)\n",
      "('1858', 30)\n",
      "('1869', 31)\n",
      "('1870', 32)\n",
      "('1878', 33)\n",
      "('1883', 34)\n",
      "('1883—a', 35)\n",
      "('1884—there', 36)\n",
      "('1887', 37)\n",
      "('1888—I', 38)\n",
      "('1890', 39)\n",
      "('19th', 40)\n",
      "('2', 41)\n",
      "('20%', 42)\n",
      "('200', 43)\n",
      "('2001', 44)\n",
      "('2002', 45)\n",
      "('2023]', 46)\n",
      "('220', 47)\n",
      "('221B', 48)\n",
      "('226', 49)\n",
      "('22nd', 50)\n",
      "('25', 51)\n",
      "('250', 52)\n",
      "('26', 53)\n",
      "('27', 54)\n",
      "('270', 55)\n",
      "('29', 56)\n",
      "('2nd', 57)\n",
      "('3', 58)\n",
      "('30', 59)\n",
      "('31', 60)\n",
      "('35', 61)\n",
      "('3rd', 62)\n",
      "('4', 63)\n",
      "('40', 64)\n",
      "('4000', 65)\n",
      "('4700', 66)\n",
      "('4th', 67)\n",
      "('4½', 68)\n",
      "('5', 69)\n",
      "('50', 70)\n",
      "('501', 71)\n",
      "('596-1887', 72)\n",
      "('6', 73)\n",
      "('60', 74)\n",
      "('64-6221541', 75)\n",
      "('7', 76)\n",
      "('700', 77)\n",
      "('750', 78)\n",
      "('8', 79)\n",
      "('801', 80)\n",
      "('809', 81)\n",
      "('84116', 82)\n",
      "('88', 83)\n",
      "('9', 84)\n",
      "('90', 85)\n",
      "('9th', 86)\n",
      "(':', 87)\n",
      "(';', 88)\n",
      "('?', 89)\n",
      "('A', 90)\n",
      "('ACTUAL', 91)\n",
      "('ADLER', 92)\n",
      "('ADVENTURE', 93)\n",
      "('ADVENTURES', 94)\n",
      "('AGREE', 95)\n",
      "('AGREEMENT', 96)\n",
      "('AND', 97)\n",
      "('ANY', 98)\n",
      "('ANYTHING', 99)\n",
      "('ASCII”', 100)\n",
      "('Abbots', 101)\n"
     ]
    }
   ],
   "source": [
    "# Initialize an empty dictionary to map tokens to integers\n",
    "vocab = {}\n",
    "\n",
    "# Iterate through all unique words and assign a unique integer ID to each token\n",
    "for integer, token in enumerate(all_words):\n",
    "    vocab[token] = integer\n",
    "\n",
    "for i, item in enumerate(vocab.items()):\n",
    "    print(item)\n",
    "    if i > 100:\n",
    "        break"
   ]
  },
  {
   "cell_type": "code",
   "execution_count": 12,
   "id": "656f3b55",
   "metadata": {},
   "outputs": [],
   "source": [
    "class SimpleTokenizerV1:\n",
    "    def __init__(self, vocab):\n",
    "        self.str_to_int = vocab\n",
    "        self.int_to_str = {i:s for s,i in vocab.items()}\n",
    "    \n",
    "    def encode(self, text):\n",
    "        preprocessed = re.split(r'([,.:;?_!\"()\\']|--|\\s)', text)\n",
    "                                \n",
    "        preprocessed = [\n",
    "            item.strip() for item in preprocessed if item.strip()\n",
    "        ]\n",
    "        ids = [self.str_to_int[s] for s in preprocessed]\n",
    "        return ids\n",
    "        \n",
    "    def decode(self, ids):\n",
    "        text = \" \".join([self.int_to_str[i] for i in ids])\n",
    "        # Replace spaces before the specified punctuations\n",
    "        text = re.sub(r'\\s+([,.?!\"()\\'])', r'\\1', text)\n",
    "        return text"
   ]
  },
  {
   "cell_type": "code",
   "execution_count": null,
   "id": "e6a8dd47",
   "metadata": {},
   "outputs": [
    {
     "name": "stdout",
     "output_type": "stream",
     "text": [
      "[702, 5159, 1358, 5608, 9, 4663, 4644, 8266, 8469, 5628, 6356, 1613, 9223, 8872, 4629, 0, 702, 5159, 8872, 3255, 0]\n",
      "<__main__.SimpleTokenizerV1 object at 0x000001D4ED288580>\n"
     ]
    }
   ],
   "source": [
    "tokenizer = SimpleTokenizerV1(vocab)\n",
    "\n",
    "text = \"\"\"John is a man, he has talked to many people and works very hard!\n",
    "        John is very determined!\"\"\"\n",
    "ids = tokenizer.encode(text)\n",
    "print(ids)\n"
   ]
  },
  {
   "cell_type": "code",
   "execution_count": 14,
   "id": "f58fd09e",
   "metadata": {},
   "outputs": [
    {
     "data": {
      "text/plain": [
       "'John is a man, he has talked to many people and works very hard! John is very determined!'"
      ]
     },
     "execution_count": 14,
     "metadata": {},
     "output_type": "execute_result"
    }
   ],
   "source": [
    "tokenizer.decode(ids)"
   ]
  },
  {
   "cell_type": "markdown",
   "id": "89e3304e",
   "metadata": {},
   "source": [
    "# Use GPT based Tokenizer (TikToken)"
   ]
  },
  {
   "cell_type": "code",
   "execution_count": 2,
   "id": "f37a2f08",
   "metadata": {},
   "outputs": [
    {
     "name": "stdout",
     "output_type": "stream",
     "text": [
      "Collecting tiktoken\n",
      "  Downloading tiktoken-0.7.0-cp38-cp38-win_amd64.whl.metadata (6.8 kB)\n",
      "Requirement already satisfied: regex>=2022.1.18 in c:\\users\\sking\\anaconda3\\envs\\sujar-env\\lib\\site-packages (from tiktoken) (2024.9.11)\n",
      "Requirement already satisfied: requests>=2.26.0 in c:\\users\\sking\\anaconda3\\envs\\sujar-env\\lib\\site-packages (from tiktoken) (2.32.4)\n",
      "Requirement already satisfied: charset_normalizer<4,>=2 in c:\\users\\sking\\anaconda3\\envs\\sujar-env\\lib\\site-packages (from requests>=2.26.0->tiktoken) (3.4.3)\n",
      "Requirement already satisfied: idna<4,>=2.5 in c:\\users\\sking\\anaconda3\\envs\\sujar-env\\lib\\site-packages (from requests>=2.26.0->tiktoken) (2.10)\n",
      "Requirement already satisfied: urllib3<3,>=1.21.1 in c:\\users\\sking\\anaconda3\\envs\\sujar-env\\lib\\site-packages (from requests>=2.26.0->tiktoken) (1.26.19)\n",
      "Requirement already satisfied: certifi>=2017.4.17 in c:\\users\\sking\\anaconda3\\envs\\sujar-env\\lib\\site-packages (from requests>=2.26.0->tiktoken) (2024.8.30)\n",
      "Downloading tiktoken-0.7.0-cp38-cp38-win_amd64.whl (798 kB)\n",
      "   ---------------------------------------- 0.0/798.9 kB ? eta -:--:--\n",
      "   ---------------------------------------- 0.0/798.9 kB ? eta -:--:--\n",
      "   ---------------------------------------- 0.0/798.9 kB ? eta -:--:--\n",
      "   ------------- -------------------------- 262.1/798.9 kB ? eta -:--:--\n",
      "   ------------- -------------------------- 262.1/798.9 kB ? eta -:--:--\n",
      "   ------------- -------------------------- 262.1/798.9 kB ? eta -:--:--\n",
      "   ------------- -------------------------- 262.1/798.9 kB ? eta -:--:--\n",
      "   ------------- -------------------------- 262.1/798.9 kB ? eta -:--:--\n",
      "   ------------------------ ------------- 524.3/798.9 kB 226.8 kB/s eta 0:00:02\n",
      "   ------------------------ ------------- 524.3/798.9 kB 226.8 kB/s eta 0:00:02\n",
      "   ------------------------ ------------- 524.3/798.9 kB 226.8 kB/s eta 0:00:02\n",
      "   ------------------------ ------------- 524.3/798.9 kB 226.8 kB/s eta 0:00:02\n",
      "   -------------------------------------- 798.9/798.9 kB 264.3 kB/s eta 0:00:00\n",
      "Installing collected packages: tiktoken\n",
      "Successfully installed tiktoken-0.7.0\n",
      "Note: you may need to restart the kernel to use updated packages.\n"
     ]
    }
   ],
   "source": [
    "pip install tiktoken"
   ]
  },
  {
   "cell_type": "code",
   "execution_count": 3,
   "id": "ad1aaff0",
   "metadata": {},
   "outputs": [
    {
     "name": "stdout",
     "output_type": "stream",
     "text": [
      "Tiktoken version: 0.7.0\n"
     ]
    }
   ],
   "source": [
    "from importlib.metadata import version\n",
    "import tiktoken\n",
    "print(\"Tiktoken version:\", version(\"tiktoken\"))"
   ]
  },
  {
   "cell_type": "code",
   "execution_count": 4,
   "id": "f4831df2",
   "metadata": {},
   "outputs": [],
   "source": [
    "tokenizer = tiktoken.get_encoding(\"gpt2\")"
   ]
  },
  {
   "cell_type": "code",
   "execution_count": 9,
   "id": "534b6009",
   "metadata": {},
   "outputs": [
    {
     "name": "stdout",
     "output_type": "stream",
     "text": [
      "[464, 2068, 7586, 21831, 18045, 625, 262, 16931, 3290, 13, 50256, 770, 318, 257, 1790, 20911, 329, 4856, 262, 402, 11571, 12, 17, 11241, 7509, 13, 632, 3407, 617, 21025, 2288, 11, 3146, 357, 10163, 828, 290, 2041, 3435, 588, 2488, 29953, 7225]\n"
     ]
    }
   ],
   "source": [
    "text = \"The quick brown fox jumps over the lazy dog.<|endoftext|> This is a short excerpt for testing the GPT-2 tokenizer. It includes some punctuation, numbers (123), and special characters like @#$%.\"\n",
    "\n",
    "integer_tokens = tokenizer.encode(text,allowed_special = {\"<|endoftext|>\"})\n",
    "print(integer_tokens)"
   ]
  },
  {
   "cell_type": "code",
   "execution_count": 10,
   "id": "e122b90a",
   "metadata": {},
   "outputs": [
    {
     "name": "stdout",
     "output_type": "stream",
     "text": [
      "The quick brown fox jumps over the lazy dog.<|endoftext|> This is a short excerpt for testing the GPT-2 tokenizer. It includes some punctuation, numbers (123), and special characters like @#$%.\n"
     ]
    }
   ],
   "source": [
    "string_val = tokenizer.decode(integer_tokens)\n",
    "print(string_val)"
   ]
  }
 ],
 "metadata": {
  "kernelspec": {
   "display_name": "sujar-env",
   "language": "python",
   "name": "python3"
  },
  "language_info": {
   "codemirror_mode": {
    "name": "ipython",
    "version": 3
   },
   "file_extension": ".py",
   "mimetype": "text/x-python",
   "name": "python",
   "nbconvert_exporter": "python",
   "pygments_lexer": "ipython3",
   "version": "3.8.20"
  }
 },
 "nbformat": 4,
 "nbformat_minor": 5
}
